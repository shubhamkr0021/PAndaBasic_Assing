{
 "cells": [
  {
   "cell_type": "markdown",
   "id": "855a4509-ee7c-45d2-9085-7ba8523bfaa8",
   "metadata": {},
   "source": [
    "Q1. Create a Pandas Series that contains the following data: 4, 8, 15, 16, 23, and 42. Then, print the series."
   ]
  },
  {
   "cell_type": "code",
   "execution_count": 1,
   "id": "f72408b9-52e0-48b0-86cd-42122ae2ce29",
   "metadata": {},
   "outputs": [
    {
     "name": "stdout",
     "output_type": "stream",
     "text": [
      "0     4\n",
      "1     8\n",
      "2    15\n",
      "3    16\n",
      "4    23\n",
      "5    42\n",
      "dtype: int64\n"
     ]
    }
   ],
   "source": [
    "import pandas as pd\n",
    "\n",
    "data = [4, 8, 15, 16, 23, 42]\n",
    "series = pd.Series(data)\n",
    "\n",
    "print(series)\n"
   ]
  },
  {
   "cell_type": "markdown",
   "id": "0735c7d7-cd3e-435a-a085-88ca7ceee759",
   "metadata": {},
   "source": [
    "Q2. Create a variable of list type containing 10 elements in it, and apply pandas.Series function on the\n",
    "variable print it."
   ]
  },
  {
   "cell_type": "code",
   "execution_count": 4,
   "id": "573b4cc3-05b1-4f15-a1ea-3f3af5249a00",
   "metadata": {},
   "outputs": [
    {
     "name": "stdout",
     "output_type": "stream",
     "text": [
      "0     1\n",
      "1     2\n",
      "2     3\n",
      "3     4\n",
      "4     5\n",
      "5     6\n",
      "6     7\n",
      "7     8\n",
      "8     9\n",
      "9    10\n",
      "dtype: int64\n"
     ]
    }
   ],
   "source": [
    "import pandas as pd\n",
    "\n",
    "my_list = [1, 2, 3, 4, 5, 6, 7, 8, 9, 10]\n",
    "\n",
    "series_from_list = pd.Series(my_list)\n",
    "\n",
    "print(series_from_list)\n"
   ]
  },
  {
   "cell_type": "markdown",
   "id": "120bcd94-38f9-4500-8e31-eff10ca45892",
   "metadata": {},
   "source": [
    "    Q3. Create a Pandas DataFrame that contains the following data:\n",
    "                                Name                    Age          Gender\n",
    "                                Alice                   25            Female\n",
    "                                Bob                     30            male\n",
    "                                Claire                  27            Female\n",
    "\n",
    "Then, print the DataFrame."
   ]
  },
  {
   "cell_type": "code",
   "execution_count": 7,
   "id": "2d88bb92-c0ee-4d60-8a47-9e5081ed23d5",
   "metadata": {},
   "outputs": [
    {
     "name": "stdout",
     "output_type": "stream",
     "text": [
      "     Name  Age  Gender\n",
      "0   Alice   25  Female\n",
      "1     Bob   30    male\n",
      "2  Claire   27  Female\n"
     ]
    }
   ],
   "source": [
    "import pandas as pd\n",
    "\n",
    "data = {\n",
    "    'Name': ['Alice', 'Bob', 'Claire'],\n",
    "    'Age': [25, 30, 27],\n",
    "    'Gender': ['Female', 'male', 'Female'] \n",
    "}\n",
    "df = pd.DataFrame(data)\n",
    "\n",
    "print(df)\n"
   ]
  },
  {
   "cell_type": "markdown",
   "id": "8afda474-43e2-427b-8d4c-0e10618f6b16",
   "metadata": {},
   "source": [
    "Q4. What is ‘DataFrame’ in pandas and how is it different from pandas.series? Explain with an example."
   ]
  },
  {
   "cell_type": "markdown",
   "id": "c8340abe-9693-4403-b8ce-21f1b86c3b70",
   "metadata": {},
   "source": [
    "Ans) \n",
    "In Pandas, a DataFrame and a Series are fundamental data structures, but they differ in their dimensions and structures:\n",
    "\n",
    "DataFrame:\n",
    "DataFrame is a two-dimensional labeled data structure with columns of potentially different types. It can be thought of as a table, similar to an Excel spreadsheet or a SQL table.\n",
    "It consists of rows and columns, where each column can have a unique data type.\n",
    "DataFrames allow for storing and manipulating data in a structured format, supporting operations like indexing, slicing, merging, and reshaping.\n",
    "It is a collection of Series that share the same index.\n",
    "\n",
    "\n",
    "Series:\n",
    "Series is a one-dimensional labeled array capable of holding data of any type. It can be considered as a single column of a DataFrame.\n",
    "Each element in a Series is associated with an index, which by default starts from 0 and can be customized.\n",
    "Series are homogeneous and contain data of the same data type."
   ]
  },
  {
   "cell_type": "code",
   "execution_count": 11,
   "id": "cff3a8f1-4270-4c18-a562-e762931b7488",
   "metadata": {},
   "outputs": [
    {
     "name": "stdout",
     "output_type": "stream",
     "text": [
      "Series:\n",
      "0    1\n",
      "1    2\n",
      "2    3\n",
      "3    4\n",
      "4    5\n",
      "dtype: int64\n",
      "\n",
      "DataFrame:\n",
      "   I II\n",
      "0  1  a\n",
      "1  2  b\n",
      "2  3  c\n",
      "3  4  d\n",
      "4  5  e\n"
     ]
    }
   ],
   "source": [
    "import pandas as pd\n",
    "\n",
    "# Creating a Series\n",
    "series_data = pd.Series([1, 2, 3, 4, 5])\n",
    "\n",
    "# Creating a DataFrame\n",
    "data = {\n",
    "    'I': [1, 2, 3, 4, 5],\n",
    "    'II': ['a', 'b', 'c', 'd', 'e']\n",
    "}\n",
    "df = pd.DataFrame(data)\n",
    "\n",
    "print(\"Series:\")\n",
    "print(series_data)\n",
    "print(\"\\nDataFrame:\")\n",
    "print(df)\n",
    "\n"
   ]
  },
  {
   "cell_type": "markdown",
   "id": "a31eefe4-c3af-4903-9f20-d4c8e3deceda",
   "metadata": {},
   "source": [
    "Q5. What are some common functions you can use to manipulate data in a Pandas DataFrame? Can\n",
    "you give an example of when you might use one of these functions?"
   ]
  },
  {
   "cell_type": "markdown",
   "id": "1c5c3c66-497d-4d05-b3a6-b0718fab1845",
   "metadata": {},
   "source": [
    "Ans)    head() and tail(): These functions display the top or bottom rows of the DataFrame.\n",
    "\n",
    "    Example: Use df.head() to display the first few rows of a DataFrame for quick data inspection.\n",
    "\n",
    "    info() and describe(): info() provides a summary of the DataFrame, including data types and null values, while describe() computes summary statistics.\n",
    "\n",
    "    Example: Using df.describe() to get statistical information like mean, standard deviation, etc., of numerical columns.\n",
    "\n",
    "    drop() and dropna(): drop() removes specified rows or columns, while dropna() removes rows with missing values.\n",
    "\n",
    "    Example: Use df.drop('Column_name', axis=1) to drop a column, or df.dropna() to drop rows with missing data."
   ]
  },
  {
   "cell_type": "markdown",
   "id": "f056f8ac-c6d4-406d-b8eb-bef3b0ccb6cc",
   "metadata": {},
   "source": [
    "Q6. Which of the following is mutable in nature Series, DataFrame, Panel?"
   ]
  },
  {
   "cell_type": "markdown",
   "id": "40d37bcb-77bb-40b4-ab56-e86824315837",
   "metadata": {},
   "source": [
    "Series: Mutable in nature. Elements within a Series can be modified, added, or deleted after the Series is created.\n",
    "\n",
    "DataFrame: Also mutable. Columns can be added, removed, or modified in a DataFrame, allowing for changes to the structure and contents of the DataFrame.\n",
    "\n",
    "Panel: Panels were previously used to handle three-dimensional data in Pandas. However, they are considered deprecated as of Pandas version 0.25.0, and users are encouraged to use other data structures like MultiIndex DataFrames or xarray for handling multi-dimensional data."
   ]
  },
  {
   "cell_type": "markdown",
   "id": "82b5fb4c-c2e4-4db6-b1ea-9f5a6b256703",
   "metadata": {},
   "source": [
    "Q7. Create a DataFrame using multiple Series. Explain with an example."
   ]
  },
  {
   "cell_type": "code",
   "execution_count": null,
   "id": "fc42823e-b377-4261-9b8e-4b5befb3b370",
   "metadata": {},
   "outputs": [],
   "source": []
  }
 ],
 "metadata": {
  "kernelspec": {
   "display_name": "Python 3 (ipykernel)",
   "language": "python",
   "name": "python3"
  },
  "language_info": {
   "codemirror_mode": {
    "name": "ipython",
    "version": 3
   },
   "file_extension": ".py",
   "mimetype": "text/x-python",
   "name": "python",
   "nbconvert_exporter": "python",
   "pygments_lexer": "ipython3",
   "version": "3.10.8"
  }
 },
 "nbformat": 4,
 "nbformat_minor": 5
}
